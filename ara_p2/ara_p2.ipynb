{
 "cells": [
  {
   "cell_type": "markdown",
   "id": "d5c87293",
   "metadata": {},
   "source": [
    "## Correlacion"
   ]
  },
  {
   "cell_type": "code",
   "execution_count": 6,
   "id": "6c98df3e",
   "metadata": {},
   "outputs": [
    {
     "name": "stdout",
     "output_type": "stream",
     "text": [
      "   MedInc  HouseAge  AveRooms  AveBedrms  Population  AveOccup  Latitude  \\\n",
      "0  8.3252      41.0  6.984127   1.023810       322.0  2.555556     37.88   \n",
      "1  8.3014      21.0  6.238137   0.971880      2401.0  2.109842     37.86   \n",
      "2  7.2574      52.0  8.288136   1.073446       496.0  2.802260     37.85   \n",
      "3  5.6431      52.0  5.817352   1.073059       558.0  2.547945     37.85   \n",
      "4  3.8462      52.0  6.281853   1.081081       565.0  2.181467     37.85   \n",
      "\n",
      "   Longitude  MedHouseVal  \n",
      "0    -122.23        4.526  \n",
      "1    -122.22        3.585  \n",
      "2    -122.24        3.521  \n",
      "3    -122.25        3.413  \n",
      "4    -122.25        3.422   ['MedInc', 'HouseAge', 'AveRooms', 'AveBedrms', 'Population', 'AveOccup', 'Latitude', 'Longitude'] MedHouseVal\n"
     ]
    }
   ],
   "source": [
    "# Imports \n",
    "import numpy as np\n",
    "import pandas as pd\n",
    "import matplotlib.pyplot as plt\n",
    "from scipy.optimize import curve_fit\n",
    "from sklearn.datasets import fetch_california_housing\n",
    "\n",
    "# Cargamos el dataset \"California Housing\" \n",
    "housing = fetch_california_housing(as_frame=True)\n",
    "df = housing.frame # features + target ('MedHouseVal')\n",
    "X = housing.data   # solo features \n",
    "y = housing.target # solo target\n",
    "print(df.head(), X.columns.tolist(), y.name)"
   ]
  },
  {
   "cell_type": "markdown",
   "id": "bd1110ab",
   "metadata": {},
   "source": [
    "## Mutual Information"
   ]
  },
  {
   "cell_type": "code",
   "execution_count": 8,
   "id": "a8b145f9",
   "metadata": {},
   "outputs": [
    {
     "name": "stdout",
     "output_type": "stream",
     "text": [
      "Longitude     0.401820\n",
      "MedInc        0.387646\n",
      "Latitude      0.370657\n",
      "AveRooms      0.103623\n",
      "AveOccup      0.072549\n",
      "HouseAge      0.032114\n",
      "AveBedrms     0.024482\n",
      "Population    0.021994\n",
      "dtype: float64\n"
     ]
    }
   ],
   "source": [
    "# Imports\n",
    "import numpy as np\n",
    "import pandas as pd\n",
    "import matplotlib.pyplot as plt\n",
    "from scipy.optimize import curve_fit\n",
    "from sklearn.datasets import fetch_california_housing\n",
    "from sklearn.feature_selection import mutual_info_regression\n",
    "\n",
    "# Cargamos el dataset\n",
    "housing = fetch_california_housing(as_frame=True)\n",
    "X = housing.data\n",
    "y = housing.target\n",
    "\n",
    "# Se calcula la información mutua de cada feature con y\n",
    "mi = mutual_info_regression(X, y, random_state=0) # Basado en kNN. (NO devuelve p-values)\n",
    "mi_series = pd.Series(mi, index=X.columns).sort_values(ascending=False)\n",
    "\n",
    "print(mi_series)"
   ]
  }
 ],
 "metadata": {
  "kernelspec": {
   "display_name": "Python 3",
   "language": "python",
   "name": "python3"
  },
  "language_info": {
   "codemirror_mode": {
    "name": "ipython",
    "version": 3
   },
   "file_extension": ".py",
   "mimetype": "text/x-python",
   "name": "python",
   "nbconvert_exporter": "python",
   "pygments_lexer": "ipython3",
   "version": "3.12.3"
  }
 },
 "nbformat": 4,
 "nbformat_minor": 5
}
