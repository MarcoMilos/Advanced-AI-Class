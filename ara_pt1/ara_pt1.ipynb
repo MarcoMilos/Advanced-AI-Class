{
 "cells": [
  {
   "cell_type": "markdown",
   "id": "0efffe2a",
   "metadata": {},
   "source": [
    "### Importar librerias"
   ]
  },
  {
   "cell_type": "code",
   "execution_count": null,
   "id": "f7235d1f",
   "metadata": {},
   "outputs": [],
   "source": [
    "import pandas as pd\n",
    "import numpy as np\n",
    "import matplotlib.pyplot as plt"
   ]
  },
  {
   "cell_type": "code",
   "execution_count": null,
   "id": "a052e8e1",
   "metadata": {},
   "outputs": [],
   "source": [
    "# Sample dataset\n",
    "data = {\n",
    "    \"Study_Hours\": [],\n",
    "    \"Exam_Score\": []\n",
    "}\n",
    "\n",
    "# Create a DF from the dataset\n",
    "df = pd.DataFrame(data)"
   ]
  },
  {
   "cell_type": "code",
   "execution_count": null,
   "id": "7c34a08a",
   "metadata": {},
   "outputs": [],
   "source": [
    "# Extract the features (study_hours) and target (exam_score)"
   ]
  },
  {
   "cell_type": "code",
   "execution_count": null,
   "id": "a4a39f8f",
   "metadata": {},
   "outputs": [],
   "source": [
    "# Fit linear regression for comparison\n",
    "\n",
    "# Fit polynomial regression"
   ]
  },
  {
   "cell_type": "code",
   "execution_count": null,
   "id": "f13eed06",
   "metadata": {},
   "outputs": [],
   "source": [
    "# Plot results\n",
    "\n",
    "# Evaluate the models"
   ]
  },
  {
   "cell_type": "markdown",
   "id": "4bbac1b7",
   "metadata": {},
   "source": [
    "### Exponential Regression"
   ]
  },
  {
   "cell_type": "code",
   "execution_count": null,
   "id": "ebe27bf0",
   "metadata": {},
   "outputs": [],
   "source": [
    "# Import libraries\n",
    "\n",
    "# Sample dataset\n",
    "data = {\n",
    "    'Date': pd.date_range(start='2022-01-01', periods=10),\n",
    "    'Engaged_Users': []\n",
    "}\n",
    "\n",
    "# Create a DataFrame from the dataset\n",
    "\n",
    "\n",
    "# Extract the features (Date) and target (Engaged_Users)\n",
    "\n",
    "# Visualize the data\n",
    "\n",
    "\n",
    "# Fit linear regression for comparison\n",
    "\n",
    "\n",
    "# Fit exponential regression\n",
    "\n",
    "\n",
    "# Evaluate the models"
   ]
  },
  {
   "cell_type": "markdown",
   "id": "7887f142",
   "metadata": {},
   "source": [
    "### Power models"
   ]
  },
  {
   "cell_type": "code",
   "execution_count": null,
   "id": "c3bb6043",
   "metadata": {},
   "outputs": [],
   "source": [
    "# Import libraries\n",
    "\n",
    "# Create a DataFrame with the sample data\n",
    "data = {\n",
    "    'User_ID': range(1, 11),\n",
    "    'Followers': np.arange(10, 110, 10),\n",
    "    'Likes': [],\n",
    "    'Shares': [],\n",
    "    'Comments': []\n",
    "}\n",
    "df = pd.DataFrame(data)\n",
    "\n",
    "# Perform power regression for Likes as an example\n",
    "\n",
    "\n",
    "\n",
    "# Generate a range of Followers values for the fitted curve\n",
    "\n",
    "# Calculate the predicted Likes using the fitted parameters\n",
    "\n",
    "# Create a plot to visualize the relationship"
   ]
  }
 ],
 "metadata": {
  "kernelspec": {
   "display_name": "Python 3",
   "language": "python",
   "name": "python3"
  },
  "language_info": {
   "codemirror_mode": {
    "name": "ipython",
    "version": 3
   },
   "file_extension": ".py",
   "mimetype": "text/x-python",
   "name": "python",
   "nbconvert_exporter": "python",
   "pygments_lexer": "ipython3",
   "version": "3.12.3"
  }
 },
 "nbformat": 4,
 "nbformat_minor": 5
}
