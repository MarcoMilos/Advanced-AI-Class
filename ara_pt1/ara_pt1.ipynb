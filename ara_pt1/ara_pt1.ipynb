{
 "cells": [
  {
   "cell_type": "markdown",
   "id": "0efffe2a",
   "metadata": {},
   "source": [
    "### Importar librerias"
   ]
  },
  {
   "cell_type": "code",
   "execution_count": 12,
   "id": "f7235d1f",
   "metadata": {},
   "outputs": [],
   "source": [
    "import pandas as pd\n",
    "import numpy as np\n",
    "import matplotlib.pyplot as plt\n",
    "from sklearn.linear_model import LinearRegression\n",
    "from sklearn.preprocessing import PolynomialFeatures\n",
    "from sklearn.metrics import mean_squared_error, r2_score"
   ]
  },
  {
   "cell_type": "code",
   "execution_count": 5,
   "id": "a052e8e1",
   "metadata": {},
   "outputs": [],
   "source": [
    "# Sample dataset\n",
    "data = {\n",
    "    'Study_Hours': [1,2,3,4,5,6,7,8,9,10],\n",
    "    'Exam_Score': [50,65,75,80,85,88,89,88,85,80]\n",
    "}\n",
    "\n",
    "# Create a DF from the dataset\n",
    "df = pd.DataFrame(data)"
   ]
  },
  {
   "cell_type": "code",
   "execution_count": 9,
   "id": "7c34a08a",
   "metadata": {},
   "outputs": [
    {
     "name": "stdout",
     "output_type": "stream",
     "text": [
      "   Study_Hours\n",
      "0            1\n",
      "1            2\n",
      "2            3\n",
      "3            4\n",
      "4            5\n",
      "5            6\n",
      "6            7\n",
      "7            8\n",
      "8            9\n",
      "9           10\n",
      "   Exam_Score\n",
      "0          50\n",
      "1          65\n",
      "2          75\n",
      "3          80\n",
      "4          85\n",
      "5          88\n",
      "6          89\n",
      "7          88\n",
      "8          85\n",
      "9          80\n"
     ]
    }
   ],
   "source": [
    "# Extract the features (study_hours) and target (exam_score)\n",
    "fts = df[[\"Study_Hours\"]]\n",
    "trgt = df[[\"Exam_Score\"]]\n",
    "\n",
    "print(fts)\n",
    "print(trgt)"
   ]
  },
  {
   "cell_type": "code",
   "execution_count": 15,
   "id": "a4a39f8f",
   "metadata": {},
   "outputs": [],
   "source": [
    "# Fit linear regression for comparison\n",
    "lin_reg = LinearRegression()\n",
    "lin_reg.fit(fts, trgt)\n",
    "y_pred_lin = lin_reg.predict(fts)\n",
    "\n",
    "# Fit polynomial regression\n",
    "poly = PolynomialFeatures(degree=2, include_bias=False)\n",
    "X_poly = poly.fit_transform(fts)\n",
    "\n",
    "poly_reg = LinearRegression()\n",
    "poly_reg.fit(X_poly, trgt)\n",
    "y_pred_poly = poly_reg.predict(X_poly)\n"
   ]
  },
  {
   "cell_type": "code",
   "execution_count": 20,
   "id": "f13eed06",
   "metadata": {},
   "outputs": [
    {
     "name": "stdout",
     "output_type": "stream",
     "text": [
      "----- Regresión lineal -----\n",
      "Intercepto: [61.66666667]\n",
      "Coeficientes: [[3.06060606]]\n",
      "R cuadrado: 0.5573768700346413\n",
      "MSI: 61.369696969696975\n",
      "\n",
      "----- Regresión polinomial -----\n",
      "Intercepto: [38.16666667]\n",
      "Coeficientes: [[14.81060606 -1.06818182]]\n",
      "R cuadrado: 0.9918915079391099\n",
      "MSI: 1.1242424242424207\n",
      "\n",
      "----- Evaluación de ambos modelos -----\n",
      "R cuadrado lineal: 0.5574\n",
      "R cuadrado polinomial: 0.9919\n"
     ]
    }
   ],
   "source": [
    "# Plot results\n",
    "print(\"----- Regresión lineal -----\")\n",
    "print(\"Intercepto:\", lin_reg.intercept_)\n",
    "print(\"Coeficientes:\", lin_reg.coef_)\n",
    "print(\"R cuadrado:\", r2_score(trgt, y_pred_lin))\n",
    "print(\"MSI:\", mean_squared_error(trgt, y_pred_lin))\n",
    "\n",
    "print(\"\\n----- Regresión polinomial -----\")\n",
    "print(\"Intercepto:\", poly_reg.intercept_)\n",
    "print(\"Coeficientes:\", poly_reg.coef_)\n",
    "print(\"R cuadrado:\", r2_score(trgt, y_pred_poly))\n",
    "print(\"MSI:\", mean_squared_error(trgt, y_pred_poly))\n",
    "\n",
    "# Evaluate the models\n",
    "print(\"\\n----- Evaluación de ambos modelos -----\")\n",
    "print(f\"R cuadrado lineal: {r2_score(trgt, y_pred_lin):.4f}\")\n",
    "print(f\"R cuadrado polinomial: {r2_score(trgt, y_pred_poly):.4f}\")"
   ]
  },
  {
   "cell_type": "markdown",
   "id": "4bbac1b7",
   "metadata": {},
   "source": [
    "### Exponential Regression"
   ]
  },
  {
   "cell_type": "code",
   "execution_count": null,
   "id": "ebe27bf0",
   "metadata": {},
   "outputs": [],
   "source": [
    "# Import libraries\n",
    "\n",
    "# Sample dataset\n",
    "data = {\n",
    "    'Date': pd.date_range(start='2022-01-01', periods=10),\n",
    "    'Engaged_Users': []\n",
    "}\n",
    "\n",
    "# Create a DataFrame from the dataset\n",
    "\n",
    "\n",
    "# Extract the features (Date) and target (Engaged_Users)\n",
    "\n",
    "# Visualize the data\n",
    "\n",
    "\n",
    "# Fit linear regression for comparison\n",
    "\n",
    "\n",
    "# Fit exponential regression\n",
    "\n",
    "\n",
    "# Evaluate the models"
   ]
  },
  {
   "cell_type": "markdown",
   "id": "7887f142",
   "metadata": {},
   "source": [
    "### Power models"
   ]
  },
  {
   "cell_type": "code",
   "execution_count": null,
   "id": "c3bb6043",
   "metadata": {},
   "outputs": [],
   "source": [
    "# Import libraries\n",
    "\n",
    "# Create a DataFrame with the sample data\n",
    "data = {\n",
    "    'User_ID': range(1, 11),\n",
    "    'Followers': np.arange(10, 110, 10),\n",
    "    'Likes': [],\n",
    "    'Shares': [],\n",
    "    'Comments': []\n",
    "}\n",
    "df = pd.DataFrame(data)\n",
    "\n",
    "# Perform power regression for Likes as an example\n",
    "\n",
    "\n",
    "\n",
    "# Generate a range of Followers values for the fitted curve\n",
    "\n",
    "# Calculate the predicted Likes using the fitted parameters\n",
    "\n",
    "# Create a plot to visualize the relationship"
   ]
  }
 ],
 "metadata": {
  "kernelspec": {
   "display_name": "Python 3",
   "language": "python",
   "name": "python3"
  },
  "language_info": {
   "codemirror_mode": {
    "name": "ipython",
    "version": 3
   },
   "file_extension": ".py",
   "mimetype": "text/x-python",
   "name": "python",
   "nbconvert_exporter": "python",
   "pygments_lexer": "ipython3",
   "version": "3.12.3"
  }
 },
 "nbformat": 4,
 "nbformat_minor": 5
}
