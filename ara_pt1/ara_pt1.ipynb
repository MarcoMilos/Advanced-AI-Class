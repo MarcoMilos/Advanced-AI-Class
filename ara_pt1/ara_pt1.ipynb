{
 "cells": [
  {
   "cell_type": "markdown",
   "id": "0efffe2a",
   "metadata": {},
   "source": [
    "### Importar librerias"
   ]
  },
  {
   "cell_type": "code",
   "execution_count": 27,
   "id": "f7235d1f",
   "metadata": {},
   "outputs": [],
   "source": [
    "import pandas as pd\n",
    "import numpy as np\n",
    "import matplotlib.pyplot as plt\n",
    "from sklearn.linear_model import LinearRegression\n",
    "from sklearn.preprocessing import PolynomialFeatures\n",
    "from sklearn.metrics import mean_squared_error, r2_score"
   ]
  },
  {
   "cell_type": "code",
   "execution_count": 28,
   "id": "a052e8e1",
   "metadata": {},
   "outputs": [],
   "source": [
    "# Sample dataset\n",
    "data = {\n",
    "    'Study_Hours': [1,2,3,4,5,6,7,8,9,10],\n",
    "    'Exam_Score': [50,65,75,80,85,88,89,88,85,80]\n",
    "}\n",
    "\n",
    "# Create a DF from the dataset\n",
    "df = pd.DataFrame(data)"
   ]
  },
  {
   "cell_type": "code",
   "execution_count": 29,
   "id": "7c34a08a",
   "metadata": {},
   "outputs": [
    {
     "name": "stdout",
     "output_type": "stream",
     "text": [
      "   Study_Hours\n",
      "0            1\n",
      "1            2\n",
      "2            3\n",
      "3            4\n",
      "4            5\n",
      "5            6\n",
      "6            7\n",
      "7            8\n",
      "8            9\n",
      "9           10\n",
      "   Exam_Score\n",
      "0          50\n",
      "1          65\n",
      "2          75\n",
      "3          80\n",
      "4          85\n",
      "5          88\n",
      "6          89\n",
      "7          88\n",
      "8          85\n",
      "9          80\n"
     ]
    }
   ],
   "source": [
    "# Extract the features (study_hours) and target (exam_score)\n",
    "fts = df[[\"Study_Hours\"]]\n",
    "trgt = df[[\"Exam_Score\"]]\n",
    "\n",
    "print(fts)\n",
    "print(trgt)"
   ]
  },
  {
   "cell_type": "code",
   "execution_count": 30,
   "id": "a4a39f8f",
   "metadata": {},
   "outputs": [],
   "source": [
    "# Fit linear regression for comparison\n",
    "lin_reg = LinearRegression()\n",
    "lin_reg.fit(fts, trgt)\n",
    "y_pred_lin = lin_reg.predict(fts)\n",
    "\n",
    "r2_lin = r2_score(trgt, y_pred_lin)\n",
    "mse_lin = mean_squared_error(trgt, y_pred_lin)\n",
    "\n",
    "# Fit polynomial regression\n",
    "poly = PolynomialFeatures(degree=2, include_bias=False)\n",
    "X_poly = poly.fit_transform(fts)\n",
    "\n",
    "poly_reg = LinearRegression()\n",
    "poly_reg.fit(X_poly, trgt)\n",
    "y_pred_poly = poly_reg.predict(X_poly)\n",
    "\n",
    "r2_poly = r2_score(trgt, y_pred_poly)\n",
    "mse_poly = mean_squared_error(trgt, y_pred_poly)\n"
   ]
  },
  {
   "cell_type": "code",
   "execution_count": 31,
   "id": "f13eed06",
   "metadata": {},
   "outputs": [
    {
     "data": {
      "image/png": "[encoded data removed]",
      "text/plain": [
       "<Figure size 800x500 with 1 Axes>"
      ]
     },
     "metadata": {},
     "output_type": "display_data"
    }
   ],
   "source": [
    "# Plot results\n",
    "metrics = [\"R cuadrado\", \"MSE\"]\n",
    "linear_scores = [r2_lin, mse_lin]\n",
    "poly_scores = [r2_poly, mse_poly]\n",
    "\n",
    "x = range(len(metrics))\n",
    "width = 0.35\n",
    "\n",
    "plt.figure(figsize=(8,5))\n",
    "\n",
    "plt.bar([i - width/2 for i in x], linear_scores, width, label=\"Regresion Lineal\")\n",
    "plt.bar([i + width/2 for i in x], poly_scores, width, label=\"Regresion Polinomial\")\n",
    "\n",
    "# Evaluate the models\n",
    "plt.xticks(x, metrics)\n",
    "plt.ylabel(\"Score\")\n",
    "plt.title(\"Comparación entre modelos\")\n",
    "plt.legend()\n",
    "plt.grid(axis=\"y\", linestyle=\"--\", alpha=0.5)\n",
    "\n",
    "plt.show()"
   ]
  },
  {
   "cell_type": "markdown",
   "id": "4bbac1b7",
   "metadata": {},
   "source": [
    "### Exponential Regression"
   ]
  },
  {
   "cell_type": "code",
   "execution_count": null,
   "id": "ebe27bf0",
   "metadata": {},
   "outputs": [
    {
     "name": "stdout",
     "output_type": "stream",
     "text": [
      "        Date\n",
      "0 2022-01-01\n",
      "1 2022-01-02\n",
      "2 2022-01-03\n",
      "3 2022-01-04\n",
      "4 2022-01-05\n",
      "5 2022-01-06\n",
      "6 2022-01-07\n",
      "7 2022-01-08\n",
      "8 2022-01-09\n",
      "9 2022-01-10\n",
      "   Engaged_Users\n",
      "0            100\n",
      "1            150\n",
      "2            225\n",
      "3            338\n",
      "4            507\n",
      "5            761\n",
      "6           1142\n",
      "7           1713\n",
      "8           2570\n",
      "9           3855\n"
     ]
    }
   ],
   "source": [
    "# Sample dataset\n",
    "data2 = {\n",
    "    'Date': pd.date_range(start='2022-01-01', periods=10),\n",
    "    'Engaged_Users': [100,150,225,338,507,761,1142,1713,2570,3855]\n",
    "}\n",
    "\n",
    "# Create a DataFrame from the dataset\n",
    "df2 = pd.DataFrame(data2)\n",
    "\n",
    "# Extract the features (Date) and target (Engaged_Users)\n",
    "features = df2[[\"Date\"]]\n",
    "target = df2[[\"Engaged_Users\"]]\n",
    "\n",
    "# Visualize the data\n",
    "\n",
    "# Fit linear regression for comparison\n",
    "\n",
    "\n",
    "# Fit exponential regression\n",
    "\n",
    "\n",
    "# Evaluate the models"
   ]
  },
  {
   "cell_type": "markdown",
   "id": "7887f142",
   "metadata": {},
   "source": [
    "### Power models"
   ]
  },
  {
   "cell_type": "code",
   "execution_count": null,
   "id": "c3bb6043",
   "metadata": {},
   "outputs": [],
   "source": [
    "# Create a DataFrame with the sample data\n",
    "data3 = {\n",
    "    'User_ID': range(1, 11),\n",
    "    'Followers': np.arange(10, 110, 10),\n",
    "    'Likes': [25,50,100,200,350,550,800,1100,1450,1850],\n",
    "    'Shares': [5,10,20,40,70,110,160,220,290,370],\n",
    "    'Comments': [2,4,8,16,28,44,64,88,116,148]\n",
    "}\n",
    "\n",
    "df3 = pd.DataFrame(data3)\n",
    "\n",
    "# Perform power regression for Likes as an example\n",
    "\n",
    "\n",
    "\n",
    "# Generate a range of Followers values for the fitted curve\n",
    "\n",
    "# Calculate the predicted Likes using the fitted parameters\n",
    "\n",
    "# Create a plot to visualize the relationship"
   ]
  }
 ],
 "metadata": {
  "kernelspec": {
   "display_name": "Python 3",
   "language": "python",
   "name": "python3"
  },
  "language_info": {
   "codemirror_mode": {
    "name": "ipython",
    "version": 3
   },
   "file_extension": ".py",
   "mimetype": "text/x-python",
   "name": "python",
   "nbconvert_exporter": "python",
   "pygments_lexer": "ipython3",
   "version": "3.12.3"
  }
 },
 "nbformat": 4,
 "nbformat_minor": 5
}
